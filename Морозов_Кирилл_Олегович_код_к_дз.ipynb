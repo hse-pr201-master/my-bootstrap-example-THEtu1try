{
  "nbformat": 4,
  "nbformat_minor": 0,
  "metadata": {
    "colab": {
      "provenance": []
    },
    "kernelspec": {
      "name": "python3",
      "display_name": "Python 3"
    },
    "language_info": {
      "name": "python"
    }
  },
  "cells": [
    {
      "cell_type": "code",
      "execution_count": 1,
      "metadata": {
        "id": "yp-nO5r1Ruyr"
      },
      "outputs": [],
      "source": [
        "import numpy as np\n",
        "import pandas as pd\n",
        "import seaborn as sns\n"
      ]
    },
    {
      "cell_type": "code",
      "source": [
        "!pip install arch"
      ],
      "metadata": {
        "id": "lBE8Tn0laFdy"
      },
      "execution_count": null,
      "outputs": []
    },
    {
      "cell_type": "code",
      "source": [
        "from arch.bootstrap import IIDBootstrap, IndependentSamplesBootstrap"
      ],
      "metadata": {
        "id": "gazYzVRwaPPj"
      },
      "execution_count": 50,
      "outputs": []
    },
    {
      "cell_type": "code",
      "source": [
        "grades = pd.read_csv('grades.csv')\n"
      ],
      "metadata": {
        "id": "OnQVA_E0SlH3"
      },
      "execution_count": 14,
      "outputs": []
    },
    {
      "cell_type": "code",
      "source": [
        "grades = grades[(grades['Итого'] != '119') & (grades['Итого'] != '60,00')]\n",
        "grades = grades.replace(['-'], 0)\n",
        "grades[grades.columns[1:]] = grades[grades.columns[1:]].astype(int)\n"
      ],
      "metadata": {
        "id": "FIBQxOwnVock"
      },
      "execution_count": null,
      "outputs": []
    },
    {
      "cell_type": "code",
      "source": [
        "np.sum(grades['2'])"
      ],
      "metadata": {
        "colab": {
          "base_uri": "https://localhost:8080/"
        },
        "id": "XVKmMe0tvF5s",
        "outputId": "1c94d71e-9197-44c6-e411-fb5eb9feb3bc"
      },
      "execution_count": 49,
      "outputs": [
        {
          "output_type": "execute_result",
          "data": {
            "text/plain": [
              "114"
            ]
          },
          "metadata": {},
          "execution_count": 49
        }
      ]
    },
    {
      "cell_type": "code",
      "source": [
        "grades_v = grades['Итого']\n",
        "gr_mean = np.mean(grades_v)\n",
        "gr_mean"
      ],
      "metadata": {
        "colab": {
          "base_uri": "https://localhost:8080/"
        },
        "id": "gNR2T6fDUeDX",
        "outputId": "623228c5-e903-44f0-b83b-61abd3f70cb4"
      },
      "execution_count": 34,
      "outputs": [
        {
          "output_type": "execute_result",
          "data": {
            "text/plain": [
              "60.0"
            ]
          },
          "metadata": {},
          "execution_count": 34
        }
      ]
    },
    {
      "cell_type": "code",
      "source": [
        "boot_grade = IIDBootstrap(grades_v, seed=111111)\n",
        "boot_grade.conf_int(np.mean, method='basic', reps=10000, size=0.95)"
      ],
      "metadata": {
        "colab": {
          "base_uri": "https://localhost:8080/"
        },
        "id": "TaAoZr2MY8rS",
        "outputId": "c4190508-8706-452f-fc23-1b2e65ad85e4"
      },
      "execution_count": 43,
      "outputs": [
        {
          "output_type": "execute_result",
          "data": {
            "text/plain": [
              "array([[52.54214286],\n",
              "       [68.14357143]])"
            ]
          },
          "metadata": {},
          "execution_count": 43
        }
      ]
    },
    {
      "cell_type": "code",
      "source": [
        "gr_2, gr_3 = np.mean(grades['2']), np.mean(grades['3'])\n",
        "gr_2, gr_3"
      ],
      "metadata": {
        "colab": {
          "base_uri": "https://localhost:8080/"
        },
        "id": "2NXIKqMrwA1j",
        "outputId": "697018d5-fdfb-4152-a494-c72722c5623c"
      },
      "execution_count": 48,
      "outputs": [
        {
          "output_type": "execute_result",
          "data": {
            "text/plain": [
              "(3.257142857142857, 3.0285714285714285)"
            ]
          },
          "metadata": {},
          "execution_count": 48
        }
      ]
    },
    {
      "cell_type": "code",
      "source": [
        "def mean(x, y):\n",
        "  return(np.mean(x)-np.mean(y))"
      ],
      "metadata": {
        "id": "Agpr_y4WwaUb"
      },
      "execution_count": 51,
      "outputs": []
    },
    {
      "cell_type": "code",
      "source": [
        "boot_xy = IndependentSamplesBootstrap(grades['2'], grades['3'], seed=111111)\n",
        "boot_xy.conf_int(mean, reps=10000, size=0.95, method='basic')"
      ],
      "metadata": {
        "colab": {
          "base_uri": "https://localhost:8080/"
        },
        "id": "MKyZk7oux80H",
        "outputId": "9e5c9038-3b2c-416b-a3ff-6953c1630ea9"
      },
      "execution_count": 59,
      "outputs": [
        {
          "output_type": "execute_result",
          "data": {
            "text/plain": [
              "array([[-1.25714286],\n",
              "       [ 1.74285714]])"
            ]
          },
          "metadata": {},
          "execution_count": 59
        }
      ]
    }
  ]
}